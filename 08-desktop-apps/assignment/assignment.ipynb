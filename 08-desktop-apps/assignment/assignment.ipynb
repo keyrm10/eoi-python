{
 "cells": [
  {
   "cell_type": "markdown",
   "metadata": {},
   "source": [
    "# Miniproyecto"
   ]
  },
  {
   "cell_type": "markdown",
   "metadata": {},
   "source": [
    "## Descripción\n",
    "\n",
    "La tarea consiste en extender la aplicación gráfica que trabajamos en clase (`pynotepad`) y añadirle un explorador de ficheros interactivo a la izquierda del editor principal."
   ]
  },
  {
   "cell_type": "markdown",
   "metadata": {},
   "source": [
    "## Referencia\n",
    "\n",
    "La aplicación deberá tener un aspecto similar a este; nótese que las principales clases utilizadas están resaltadas en rojo:\n",
    "\n",
    "![PyNotepad con explorador de ficheros](./file-explorer.png)\n",
    "\n",
    "En este caso se ha optado por utilizar las capabilidades organizativas de [`QMainWindow`](https://doc.qt.io/qt-5/qmainwindow.html#qt-main-window-framework) para añadir el [`QTreeView`](https://doc.qt.io/qt-5/qtreeview.html) como un [`QDockWidget`](https://doc.qt.io/qt-5/qdockwidget.html), aunque no es estrictamente necesario utilizar estos mismos componentes; puede hacerse también con un [`QHBoxLayout`](https://doc.qt.io/qt-5/qhboxlayout.html) organizando horizontalmente los widgets."
   ]
  },
  {
   "cell_type": "markdown",
   "metadata": {},
   "source": [
    "## Requisitos mínimos\n",
    "\n",
    "* Hacer doble-click sobre un fichero debe tener el efecto de abrirlo en el editor central. Doble-click sobre un directorio debe expandir o contraer la vista de ese directorio (ese comportamiento ya está implementado por defecto usando `QTreeView` en conjunción con `QFileSystemModel`)"
   ]
  },
  {
   "cell_type": "markdown",
   "metadata": {},
   "source": [
    "## Mejoras opcionales\n",
    "\n",
    "\n",
    "* Menú contextual al hacer click derecho en el QTreeView\n",
    "    * Mostrar algunas opciones extras aquí (cuantas más, mejor); por ejemplo _abrir fichero_, _renombrar_, _borrar_ o _copiar ruta en el portapapeles_. Dichas acciones deben estar realmente implementadas\n",
    "* Implementar un editor de Markdown\n",
    "    * La clase a utilizar en este caso es [`QWebEngineView`](https://doc.qt.io/qt-5/qwebengineview.html)\n",
    "    * El import correcto es `from PyQt5.QtWebEngineWidgets import QWebEngineView`\n",
    "    * `QtWebEngineWidgets` es un paquete aparte que no viene en la instalación por defecto de PyQt5, por lo que es necesario instalarlo aparte; ver [aqui](https://stackoverflow.com/a/54947671/1911099)\n",
    "    * Para generar el HTML correspondiente a un Markdown dado, se pueden utilizar varios módulos ya existentes para ello; [ejemplo](https://github.com/trentm/python-markdown2)\n",
    "    * Hay varias opciones también para gestionar el \"refresco\" de la vista HTML; la más sencilla es añadir un botón en algún lugar de la interfaz para generar el nuevo HTML y configurar el `QWebEngineView` para mostrarlo. Opciones más realistas pasan por refrescar la vista al guardar el fichero, o al transcurrir un tiempo determinado desde la última pulsación de tecla (2 segundos es un tiempo razonable para ello)\n",
    "    * Habrá que prestar atención a los posibles errores de conversión Markdown -> HTML que se puedan dar. Si no es posible generar HTML válido, la vista del `QWebEngineView` debería quedarse en blanco, o mostrar algún tipo de mensaje de error\n",
    "\n",
    "![PyNotepad con explorador de ficheros](./webview.png)"
   ]
  },
  {
   "cell_type": "markdown",
   "metadata": {},
   "source": [
    "## Criterios de evaluación\n",
    "\n",
    "En orden de importancia, se evaluará la entrega acorde a los siguientes puntos:\n",
    "\n",
    "1. **<ins>Funcionalidad</ins>**: La aplicación debe ejecutarse sin errores y hacer lo que se le supone. Se espera también cierta estabilidad frente a acciones \"no-comunes\" por parte del usuario, como por ejemplo pulsaciones de teclas inesperadas o redimensionado de la ventana; en general, con aplicaciones de este tipo es una buena práctica guiarse por el [POLA](https://en.wikipedia.org/wiki/Principle_of_least_astonishment)\n",
    "2. **<ins>Mejoras opcionales</ins>**: Se valorarán todas aquellas mejoras que se implementen más allá de los requisitos mínimos\n",
    "3. **<ins>Organización de código</ins>**: A medida que se vayan implementando funcionalidades, la organización básica de \"todo en un fichero\" y \"todo objetos globales\" es cada vez más problemática. Investigar maneras más avanzadas de gestionar el código; recomiendo revisar el código fuente de algunas aplicaciones de código abierto que usan PyQt, como por ejemplo [Anki](https://github.com/ankitects/anki/tree/master/qt/aqt) o [Calibre](https://github.com/kovidgoyal/calibre/tree/master/src/calibre/gui2)"
   ]
  },
  {
   "cell_type": "markdown",
   "metadata": {},
   "source": [
    "## Fecha límite de entrega\n",
    "\n",
    "La tarea deberá ser entregada, a más tardar, el **domingo 5 de julio** a las **23:59 WEST**"
   ]
  },
  {
   "cell_type": "markdown",
   "metadata": {},
   "source": [
    "## Forma de entrega\n",
    "\n",
    "Se habilitará una tarea en nuestro Google Classroom a tal efecto para poder subir los ficheros finales."
   ]
  }
 ],
 "metadata": {
  "kernelspec": {
   "display_name": "Python 3",
   "language": "python",
   "name": "python3"
  },
  "language_info": {
   "codemirror_mode": {
    "name": "ipython",
    "version": 3
   },
   "file_extension": ".py",
   "mimetype": "text/x-python",
   "name": "python",
   "nbconvert_exporter": "python",
   "pygments_lexer": "ipython3",
   "version": "3.8.3"
  }
 },
 "nbformat": 4,
 "nbformat_minor": 4
}
