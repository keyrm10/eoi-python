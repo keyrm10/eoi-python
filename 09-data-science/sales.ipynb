{
 "cells": [
  {
   "cell_type": "markdown",
   "metadata": {},
   "source": [
    "# Miniproyecto - Ciencia de datos"
   ]
  },
  {
   "cell_type": "markdown",
   "metadata": {},
   "source": [
    "## Descripción\n",
    "\n",
    "La tarea consiste en analizar y explorar un conjunto de datos sencillo, utilizando las herramientas vistas en clase: `numpy`, `pandas`, `matplotlib`, `seaborn`, `scikit-learn`, etc.\n",
    "\n",
    "El conjunto de datos está en formato CSV, y se puede descargar [aquí](https://storage.googleapis.com/curso-eoi/sales.csv).\n",
    "\n",
    "Cada fila del conjunto de datos describe una campaña de marketing con la cantidad de dinero que una empresa no especificada ha empleado en tres canales diferentes: televisión, radio y prensa, además de una última columna que lista las ventas conseguidas en dicha campaña. Las columnas `TV`, `radio` y `newspaper` indican la cantidad de dinero invertida en miles de euros, mientras que la columna `sales` indica miles de unidades vendidas."
   ]
  },
  {
   "cell_type": "code",
   "execution_count": 1,
   "metadata": {},
   "outputs": [],
   "source": [
    "import numpy as np\n",
    "import pandas as pd\n",
    "import seaborn as sns\n",
    "from sklearn.linear_model import LogisticRegression\n",
    "from sklearn.metrics import accuracy_score, confusion_matrix\n",
    "from sklearn.model_selection import train_test_split\n",
    "from sklearn.naive_bayes import GaussianNB\n",
    "\n",
    "%matplotlib inline"
   ]
  },
  {
   "cell_type": "markdown",
   "metadata": {},
   "source": [
    "## Paso 1\n",
    "\n",
    "* Limpiar el conjunto de datos de aquellas filas en las que falten datos o haya valores extraños o fuera de rango (recordemos [`pandas.DataFrame.describe()`](https://pandas.pydata.org/pandas-docs/stable/reference/api/pandas.DataFrame.describe.html))\n",
    "* Crear tres scatter plots (o uno solo con tres subplots) con los ejes debidamente etiquetados, donde el eje X es la cantidad de dinero invertida en ese canal, y el eje Y representa el número de unidades vendidas\n",
    "* **[OPCIONAL]** Utilizar plotting alternativo, como por ejemplo [`seaborn.regplot()`](https://seaborn.pydata.org/generated/seaborn.regplot.html); este incluye automáticamente una recta de regresión sobre los datos y unos intervalos de confianza ajustables\n",
    "* **[OPCIONAL]** Investigar acerca del coeficiente de correlación de Pearson (por ejemplo [aquí](https://en.wikipedia.org/wiki/Pearson_correlation_coefficient) y [aquí](https://realpython.com/numpy-scipy-pandas-correlation-python/)), calcularlo y mostrarlo sobre los plots. La funcion [`numpy.corrcoef()`](https://numpy.org/doc/stable/reference/generated/numpy.corrcoef.html) es útil para esto\n",
    "\n",
    "El resultado debe ser similar a esto:\n",
    "\n",
    "![Plots](data.png)"
   ]
  },
  {
   "cell_type": "code",
   "execution_count": 2,
   "metadata": {},
   "outputs": [],
   "source": [
    "data = pd.read_csv('sales.csv')"
   ]
  },
  {
   "cell_type": "code",
   "execution_count": 3,
   "metadata": {},
   "outputs": [
    {
     "data": {
      "text/html": [
       "<div>\n",
       "<style scoped>\n",
       "    .dataframe tbody tr th:only-of-type {\n",
       "        vertical-align: middle;\n",
       "    }\n",
       "\n",
       "    .dataframe tbody tr th {\n",
       "        vertical-align: top;\n",
       "    }\n",
       "\n",
       "    .dataframe thead th {\n",
       "        text-align: right;\n",
       "    }\n",
       "</style>\n",
       "<table border=\"1\" class=\"dataframe\">\n",
       "  <thead>\n",
       "    <tr style=\"text-align: right;\">\n",
       "      <th></th>\n",
       "      <th>id</th>\n",
       "      <th>TV</th>\n",
       "      <th>radio</th>\n",
       "      <th>newspaper</th>\n",
       "      <th>sales</th>\n",
       "    </tr>\n",
       "  </thead>\n",
       "  <tbody>\n",
       "    <tr>\n",
       "      <th>count</th>\n",
       "      <td>210.000000</td>\n",
       "      <td>2.070000e+02</td>\n",
       "      <td>210.000000</td>\n",
       "      <td>210.000000</td>\n",
       "      <td>210.000000</td>\n",
       "    </tr>\n",
       "    <tr>\n",
       "      <th>mean</th>\n",
       "      <td>100.809524</td>\n",
       "      <td>1.449275e+10</td>\n",
       "      <td>23.200476</td>\n",
       "      <td>30.294762</td>\n",
       "      <td>13.959048</td>\n",
       "    </tr>\n",
       "    <tr>\n",
       "      <th>std</th>\n",
       "      <td>57.399481</td>\n",
       "      <td>1.198000e+11</td>\n",
       "      <td>14.827575</td>\n",
       "      <td>21.726517</td>\n",
       "      <td>5.196055</td>\n",
       "    </tr>\n",
       "    <tr>\n",
       "      <th>min</th>\n",
       "      <td>1.000000</td>\n",
       "      <td>7.000000e-01</td>\n",
       "      <td>0.000000</td>\n",
       "      <td>0.300000</td>\n",
       "      <td>1.600000</td>\n",
       "    </tr>\n",
       "    <tr>\n",
       "      <th>25%</th>\n",
       "      <td>52.250000</td>\n",
       "      <td>7.405000e+01</td>\n",
       "      <td>10.025000</td>\n",
       "      <td>12.025000</td>\n",
       "      <td>10.400000</td>\n",
       "    </tr>\n",
       "    <tr>\n",
       "      <th>50%</th>\n",
       "      <td>101.500000</td>\n",
       "      <td>1.498000e+02</td>\n",
       "      <td>22.400000</td>\n",
       "      <td>25.750000</td>\n",
       "      <td>12.900000</td>\n",
       "    </tr>\n",
       "    <tr>\n",
       "      <th>75%</th>\n",
       "      <td>149.750000</td>\n",
       "      <td>2.200500e+02</td>\n",
       "      <td>36.575000</td>\n",
       "      <td>44.900000</td>\n",
       "      <td>17.300000</td>\n",
       "    </tr>\n",
       "    <tr>\n",
       "      <th>max</th>\n",
       "      <td>200.000000</td>\n",
       "      <td>1.000000e+12</td>\n",
       "      <td>49.600000</td>\n",
       "      <td>114.000000</td>\n",
       "      <td>27.000000</td>\n",
       "    </tr>\n",
       "  </tbody>\n",
       "</table>\n",
       "</div>"
      ],
      "text/plain": [
       "               id            TV       radio   newspaper       sales\n",
       "count  210.000000  2.070000e+02  210.000000  210.000000  210.000000\n",
       "mean   100.809524  1.449275e+10   23.200476   30.294762   13.959048\n",
       "std     57.399481  1.198000e+11   14.827575   21.726517    5.196055\n",
       "min      1.000000  7.000000e-01    0.000000    0.300000    1.600000\n",
       "25%     52.250000  7.405000e+01   10.025000   12.025000   10.400000\n",
       "50%    101.500000  1.498000e+02   22.400000   25.750000   12.900000\n",
       "75%    149.750000  2.200500e+02   36.575000   44.900000   17.300000\n",
       "max    200.000000  1.000000e+12   49.600000  114.000000   27.000000"
      ]
     },
     "execution_count": 3,
     "metadata": {},
     "output_type": "execute_result"
    }
   ],
   "source": [
    "data.describe()"
   ]
  },
  {
   "cell_type": "code",
   "execution_count": 4,
   "metadata": {},
   "outputs": [],
   "source": [
    "# Remove missing values\n",
    "data.dropna(inplace=True)\n",
    "\n",
    "# Remove duplicates\n",
    "data.drop_duplicates(inplace=True)\n",
    "\n",
    "# Remove outliers\n",
    "q = data['TV'].quantile(0.99)\n",
    "data = data[data['TV'] < q]"
   ]
  },
  {
   "cell_type": "code",
   "execution_count": 5,
   "metadata": {},
   "outputs": [
    {
     "data": {
      "text/html": [
       "<div>\n",
       "<style scoped>\n",
       "    .dataframe tbody tr th:only-of-type {\n",
       "        vertical-align: middle;\n",
       "    }\n",
       "\n",
       "    .dataframe tbody tr th {\n",
       "        vertical-align: top;\n",
       "    }\n",
       "\n",
       "    .dataframe thead th {\n",
       "        text-align: right;\n",
       "    }\n",
       "</style>\n",
       "<table border=\"1\" class=\"dataframe\">\n",
       "  <thead>\n",
       "    <tr style=\"text-align: right;\">\n",
       "      <th></th>\n",
       "      <th>id</th>\n",
       "      <th>TV</th>\n",
       "      <th>radio</th>\n",
       "      <th>newspaper</th>\n",
       "      <th>sales</th>\n",
       "    </tr>\n",
       "  </thead>\n",
       "  <tbody>\n",
       "    <tr>\n",
       "      <th>count</th>\n",
       "      <td>194.000000</td>\n",
       "      <td>194.000000</td>\n",
       "      <td>194.000000</td>\n",
       "      <td>194.000000</td>\n",
       "      <td>194.000000</td>\n",
       "    </tr>\n",
       "    <tr>\n",
       "      <th>mean</th>\n",
       "      <td>100.474227</td>\n",
       "      <td>145.444845</td>\n",
       "      <td>23.001031</td>\n",
       "      <td>30.246392</td>\n",
       "      <td>13.868557</td>\n",
       "    </tr>\n",
       "    <tr>\n",
       "      <th>std</th>\n",
       "      <td>57.831646</td>\n",
       "      <td>86.032061</td>\n",
       "      <td>14.846077</td>\n",
       "      <td>21.747570</td>\n",
       "      <td>5.135792</td>\n",
       "    </tr>\n",
       "    <tr>\n",
       "      <th>min</th>\n",
       "      <td>1.000000</td>\n",
       "      <td>0.700000</td>\n",
       "      <td>0.000000</td>\n",
       "      <td>0.300000</td>\n",
       "      <td>1.600000</td>\n",
       "    </tr>\n",
       "    <tr>\n",
       "      <th>25%</th>\n",
       "      <td>50.250000</td>\n",
       "      <td>71.300000</td>\n",
       "      <td>9.675000</td>\n",
       "      <td>12.650000</td>\n",
       "      <td>10.300000</td>\n",
       "    </tr>\n",
       "    <tr>\n",
       "      <th>50%</th>\n",
       "      <td>101.500000</td>\n",
       "      <td>148.500000</td>\n",
       "      <td>22.400000</td>\n",
       "      <td>25.600000</td>\n",
       "      <td>12.850000</td>\n",
       "    </tr>\n",
       "    <tr>\n",
       "      <th>75%</th>\n",
       "      <td>150.750000</td>\n",
       "      <td>218.475000</td>\n",
       "      <td>36.450000</td>\n",
       "      <td>43.275000</td>\n",
       "      <td>17.275000</td>\n",
       "    </tr>\n",
       "    <tr>\n",
       "      <th>max</th>\n",
       "      <td>200.000000</td>\n",
       "      <td>296.400000</td>\n",
       "      <td>49.600000</td>\n",
       "      <td>114.000000</td>\n",
       "      <td>27.000000</td>\n",
       "    </tr>\n",
       "  </tbody>\n",
       "</table>\n",
       "</div>"
      ],
      "text/plain": [
       "               id          TV       radio   newspaper       sales\n",
       "count  194.000000  194.000000  194.000000  194.000000  194.000000\n",
       "mean   100.474227  145.444845   23.001031   30.246392   13.868557\n",
       "std     57.831646   86.032061   14.846077   21.747570    5.135792\n",
       "min      1.000000    0.700000    0.000000    0.300000    1.600000\n",
       "25%     50.250000   71.300000    9.675000   12.650000   10.300000\n",
       "50%    101.500000  148.500000   22.400000   25.600000   12.850000\n",
       "75%    150.750000  218.475000   36.450000   43.275000   17.275000\n",
       "max    200.000000  296.400000   49.600000  114.000000   27.000000"
      ]
     },
     "execution_count": 5,
     "metadata": {},
     "output_type": "execute_result"
    }
   ],
   "source": [
    "data.describe()"
   ]
  },
  {
   "cell_type": "code",
   "execution_count": 6,
   "metadata": {},
   "outputs": [
    {
     "data": {
      "text/plain": [
       "Text(0.5, 1.0, 'TV correlation: 0.78')"
      ]
     },
     "execution_count": 6,
     "metadata": {},
     "output_type": "execute_result"
    },
    {
     "data": {
      "image/png": "[encoded data removed]",
      "text/plain": [
       "<Figure size 432x288 with 1 Axes>"
      ]
     },
     "metadata": {
      "needs_background": "light"
     },
     "output_type": "display_data"
    }
   ],
   "source": [
    "pcc_tv = np.corrcoef(data['TV'], data['sales'])[0, 1]\n",
    "sns.regplot(x='TV', y='sales', data=data).set_title(f'TV correlation: {pcc_tv:.2f}')"
   ]
  },
  {
   "cell_type": "code",
   "execution_count": 7,
   "metadata": {},
   "outputs": [
    {
     "data": {
      "text/plain": [
       "Text(0.5, 1.0, 'radio correlation: 0.56')"
      ]
     },
     "execution_count": 7,
     "metadata": {},
     "output_type": "execute_result"
    },
    {
     "data": {
      "image/png": "[encoded data removed]",
      "text/plain": [
       "<Figure size 432x288 with 1 Axes>"
      ]
     },
     "metadata": {
      "needs_background": "light"
     },
     "output_type": "display_data"
    }
   ],
   "source": [
    "pcc_radio = np.corrcoef(data['radio'], data['sales'])[0, 1]\n",
    "sns.regplot(x='radio', y='sales', data=data, color='orange').set_title(f'radio correlation: {pcc_radio:.2f}')"
   ]
  },
  {
   "cell_type": "code",
   "execution_count": 8,
   "metadata": {},
   "outputs": [
    {
     "data": {
      "text/plain": [
       "Text(0.5, 1.0, 'newspaper correlation: 0.20')"
      ]
     },
     "execution_count": 8,
     "metadata": {},
     "output_type": "execute_result"
    },
    {
     "data": {
      "image/png": "[encoded data removed]",
      "text/plain": [
       "<Figure size 432x288 with 1 Axes>"
      ]
     },
     "metadata": {
      "needs_background": "light"
     },
     "output_type": "display_data"
    }
   ],
   "source": [
    "pcc_newspaper = np.corrcoef(data['newspaper'], data['sales'])[0, 1]\n",
    "sns.regplot(x='newspaper', y='sales', data=data, color='limegreen').set_title(\n",
    "    f'newspaper correlation: {pcc_newspaper:.2f}'\n",
    ")"
   ]
  },
  {
   "cell_type": "markdown",
   "metadata": {},
   "source": [
    "## Paso 2\n",
    "\n",
    "Aumentar el dataset con las siguientes dos columnas generadas:\n",
    "\n",
    "* Cantidad total invertida por venta, es decir, coste total (entre los tres canales) dividido por el número de ventas\n",
    "* Un valor booleano (`true`/`false`, o `0`/`1`) que indique si la campaña de marketing fue _exitosa_. Una campaña es considerada exitosa si se cumplen **ambas** condiciones siguientes:\n",
    "    * Cantidad total invertida por venta es menos de 20€\n",
    "    * Más de 15000 unidades fueron vendidas\n",
    "\n",
    "Responder a la pregunta: **¿Cuántas campañas fueron exitosas?**"
   ]
  },
  {
   "cell_type": "code",
   "execution_count": 9,
   "metadata": {},
   "outputs": [
    {
     "name": "stdout",
     "output_type": "stream",
     "text": [
      "70 campañas fueron exitosas.\n"
     ]
    }
   ],
   "source": [
    "data['total_invested'] = (data['TV'] + data['radio'] + data['newspaper']) / data['sales']\n",
    "data['is_successful'] = (data['total_invested'] < 20) & (data['sales'] > 15)\n",
    "\n",
    "successful_campaigns = data.is_successful.sum()\n",
    "print(f'{successful_campaigns} campañas fueron exitosas.')"
   ]
  },
  {
   "cell_type": "markdown",
   "metadata": {},
   "source": [
    "## Paso 3\n",
    "\n",
    "* Crear un conjunto de entrenamiento seleccionando las filas con `id <= 160`\n",
    "* Entrenar un clasificador [_Gaussian Naive-Bayes_](https://scikit-learn.org/stable/modules/generated/sklearn.naive_bayes.GaussianNB.html) como vimos en clase para determinar si una campaña será exitosa, dadas las cantidades empleadas en cada canal de marketing\n",
    "* Calcular la fracción del conjunto de entrenamiento que es clasificado correctamente.\n",
    "* **[OPCIONAL]** Utilizar clasificadores alternativos, tales como regresión logística ([enlace](https://realpython.com/logistic-regression-python/), [enlace](https://scikit-learn.org/stable/modules/generated/sklearn.linear_model.LogisticRegression.html)) o random forest ([enlace](https://www.datacamp.com/community/tutorials/random-forests-classifier-python), [enlace](https://scikit-learn.org/stable/modules/generated/sklearn.ensemble.RandomForestClassifier.html))"
   ]
  },
  {
   "cell_type": "code",
   "execution_count": 10,
   "metadata": {},
   "outputs": [
    {
     "data": {
      "text/html": [
       "<div>\n",
       "<style scoped>\n",
       "    .dataframe tbody tr th:only-of-type {\n",
       "        vertical-align: middle;\n",
       "    }\n",
       "\n",
       "    .dataframe tbody tr th {\n",
       "        vertical-align: top;\n",
       "    }\n",
       "\n",
       "    .dataframe thead th {\n",
       "        text-align: right;\n",
       "    }\n",
       "</style>\n",
       "<table border=\"1\" class=\"dataframe\">\n",
       "  <thead>\n",
       "    <tr style=\"text-align: right;\">\n",
       "      <th></th>\n",
       "      <th>id</th>\n",
       "      <th>TV</th>\n",
       "      <th>radio</th>\n",
       "      <th>newspaper</th>\n",
       "      <th>sales</th>\n",
       "      <th>total_invested</th>\n",
       "    </tr>\n",
       "  </thead>\n",
       "  <tbody>\n",
       "    <tr>\n",
       "      <th>count</th>\n",
       "      <td>155.000000</td>\n",
       "      <td>155.000000</td>\n",
       "      <td>155.000000</td>\n",
       "      <td>155.000000</td>\n",
       "      <td>155.000000</td>\n",
       "      <td>155.000000</td>\n",
       "    </tr>\n",
       "    <tr>\n",
       "      <th>mean</th>\n",
       "      <td>80.458065</td>\n",
       "      <td>141.704516</td>\n",
       "      <td>24.232258</td>\n",
       "      <td>32.023226</td>\n",
       "      <td>13.947097</td>\n",
       "      <td>13.891405</td>\n",
       "    </tr>\n",
       "    <tr>\n",
       "      <th>std</th>\n",
       "      <td>46.403123</td>\n",
       "      <td>86.283242</td>\n",
       "      <td>14.726202</td>\n",
       "      <td>22.155644</td>\n",
       "      <td>5.195406</td>\n",
       "      <td>4.032570</td>\n",
       "    </tr>\n",
       "    <tr>\n",
       "      <th>min</th>\n",
       "      <td>1.000000</td>\n",
       "      <td>0.700000</td>\n",
       "      <td>0.000000</td>\n",
       "      <td>0.300000</td>\n",
       "      <td>1.600000</td>\n",
       "      <td>2.437500</td>\n",
       "    </tr>\n",
       "    <tr>\n",
       "      <th>25%</th>\n",
       "      <td>40.500000</td>\n",
       "      <td>69.100000</td>\n",
       "      <td>11.650000</td>\n",
       "      <td>13.650000</td>\n",
       "      <td>10.200000</td>\n",
       "      <td>11.402990</td>\n",
       "    </tr>\n",
       "    <tr>\n",
       "      <th>50%</th>\n",
       "      <td>80.000000</td>\n",
       "      <td>137.900000</td>\n",
       "      <td>25.700000</td>\n",
       "      <td>28.900000</td>\n",
       "      <td>12.900000</td>\n",
       "      <td>13.559783</td>\n",
       "    </tr>\n",
       "    <tr>\n",
       "      <th>75%</th>\n",
       "      <td>120.500000</td>\n",
       "      <td>217.600000</td>\n",
       "      <td>36.900000</td>\n",
       "      <td>45.800000</td>\n",
       "      <td>17.400000</td>\n",
       "      <td>15.364644</td>\n",
       "    </tr>\n",
       "    <tr>\n",
       "      <th>max</th>\n",
       "      <td>160.000000</td>\n",
       "      <td>296.400000</td>\n",
       "      <td>49.600000</td>\n",
       "      <td>114.000000</td>\n",
       "      <td>25.400000</td>\n",
       "      <td>30.625000</td>\n",
       "    </tr>\n",
       "  </tbody>\n",
       "</table>\n",
       "</div>"
      ],
      "text/plain": [
       "               id          TV       radio   newspaper       sales  \\\n",
       "count  155.000000  155.000000  155.000000  155.000000  155.000000   \n",
       "mean    80.458065  141.704516   24.232258   32.023226   13.947097   \n",
       "std     46.403123   86.283242   14.726202   22.155644    5.195406   \n",
       "min      1.000000    0.700000    0.000000    0.300000    1.600000   \n",
       "25%     40.500000   69.100000   11.650000   13.650000   10.200000   \n",
       "50%     80.000000  137.900000   25.700000   28.900000   12.900000   \n",
       "75%    120.500000  217.600000   36.900000   45.800000   17.400000   \n",
       "max    160.000000  296.400000   49.600000  114.000000   25.400000   \n",
       "\n",
       "       total_invested  \n",
       "count      155.000000  \n",
       "mean        13.891405  \n",
       "std          4.032570  \n",
       "min          2.437500  \n",
       "25%         11.402990  \n",
       "50%         13.559783  \n",
       "75%         15.364644  \n",
       "max         30.625000  "
      ]
     },
     "execution_count": 10,
     "metadata": {},
     "output_type": "execute_result"
    }
   ],
   "source": [
    "data.loc[data['id'] <= 160].describe()"
   ]
  },
  {
   "cell_type": "code",
   "execution_count": 11,
   "metadata": {},
   "outputs": [],
   "source": [
    "X = data[['TV', 'radio', 'newspaper']]\n",
    "y = data.is_successful\n",
    "\n",
    "X_train, X_test, y_train, y_test = train_test_split(X, y, train_size=155, shuffle=False)"
   ]
  },
  {
   "cell_type": "code",
   "execution_count": 12,
   "metadata": {},
   "outputs": [],
   "source": [
    "logistic_reg = LogisticRegression()\n",
    "logistic_reg.fit(X_train, y_train)\n",
    "y_pred_train = logistic_reg.predict(X_train)"
   ]
  },
  {
   "cell_type": "code",
   "execution_count": 13,
   "metadata": {},
   "outputs": [
    {
     "name": "stdout",
     "output_type": "stream",
     "text": [
      "Un 92.90% del conjunto de entrenamiento fue clasificado correctamente.\n"
     ]
    }
   ],
   "source": [
    "train_classification_accuracy = accuracy_score(y_train, y_pred_train) * 100\n",
    "print(f'Un {train_classification_accuracy:.2f}% del conjunto de entrenamiento fue clasificado correctamente.')"
   ]
  },
  {
   "cell_type": "markdown",
   "metadata": {},
   "source": [
    "## Paso 4\n",
    "\n",
    "* Crear un conjunto de prueba seleccionando las filas con `id > 160`\n",
    "* Evaluar el rendimiento del clasificador de la siguiente manera:\n",
    "    * ¿Qué porcentaje del conjunto de prueba fue clasificado correctamente (aciertos sobre el total)? Es deseable que este número llegue al menos al 80%\n",
    "    * ¿Cuál es la proporción de [falsos positivos y falsos negativos](https://en.wikipedia.org/wiki/False_positives_and_false_negatives)?"
   ]
  },
  {
   "cell_type": "code",
   "execution_count": 14,
   "metadata": {},
   "outputs": [
    {
     "data": {
      "text/html": [
       "<div>\n",
       "<style scoped>\n",
       "    .dataframe tbody tr th:only-of-type {\n",
       "        vertical-align: middle;\n",
       "    }\n",
       "\n",
       "    .dataframe tbody tr th {\n",
       "        vertical-align: top;\n",
       "    }\n",
       "\n",
       "    .dataframe thead th {\n",
       "        text-align: right;\n",
       "    }\n",
       "</style>\n",
       "<table border=\"1\" class=\"dataframe\">\n",
       "  <thead>\n",
       "    <tr style=\"text-align: right;\">\n",
       "      <th></th>\n",
       "      <th>id</th>\n",
       "      <th>TV</th>\n",
       "      <th>radio</th>\n",
       "      <th>newspaper</th>\n",
       "      <th>sales</th>\n",
       "      <th>total_invested</th>\n",
       "    </tr>\n",
       "  </thead>\n",
       "  <tbody>\n",
       "    <tr>\n",
       "      <th>count</th>\n",
       "      <td>39.000000</td>\n",
       "      <td>39.000000</td>\n",
       "      <td>39.000000</td>\n",
       "      <td>39.000000</td>\n",
       "      <td>39.00000</td>\n",
       "      <td>39.000000</td>\n",
       "    </tr>\n",
       "    <tr>\n",
       "      <th>mean</th>\n",
       "      <td>180.025641</td>\n",
       "      <td>160.310256</td>\n",
       "      <td>18.107692</td>\n",
       "      <td>23.184615</td>\n",
       "      <td>13.55641</td>\n",
       "      <td>14.532174</td>\n",
       "    </tr>\n",
       "    <tr>\n",
       "      <th>std</th>\n",
       "      <td>11.446643</td>\n",
       "      <td>84.480913</td>\n",
       "      <td>14.484972</td>\n",
       "      <td>18.674533</td>\n",
       "      <td>4.94463</td>\n",
       "      <td>4.770307</td>\n",
       "    </tr>\n",
       "    <tr>\n",
       "      <th>min</th>\n",
       "      <td>161.000000</td>\n",
       "      <td>17.200000</td>\n",
       "      <td>2.100000</td>\n",
       "      <td>3.600000</td>\n",
       "      <td>5.90000</td>\n",
       "      <td>7.328947</td>\n",
       "    </tr>\n",
       "    <tr>\n",
       "      <th>25%</th>\n",
       "      <td>170.500000</td>\n",
       "      <td>89.950000</td>\n",
       "      <td>5.550000</td>\n",
       "      <td>8.200000</td>\n",
       "      <td>10.40000</td>\n",
       "      <td>10.944141</td>\n",
       "    </tr>\n",
       "    <tr>\n",
       "      <th>50%</th>\n",
       "      <td>180.000000</td>\n",
       "      <td>168.400000</td>\n",
       "      <td>12.100000</td>\n",
       "      <td>19.400000</td>\n",
       "      <td>12.20000</td>\n",
       "      <td>15.054688</td>\n",
       "    </tr>\n",
       "    <tr>\n",
       "      <th>75%</th>\n",
       "      <td>189.500000</td>\n",
       "      <td>220.450000</td>\n",
       "      <td>29.450000</td>\n",
       "      <td>29.850000</td>\n",
       "      <td>16.50000</td>\n",
       "      <td>17.340128</td>\n",
       "    </tr>\n",
       "    <tr>\n",
       "      <th>max</th>\n",
       "      <td>200.000000</td>\n",
       "      <td>287.600000</td>\n",
       "      <td>48.900000</td>\n",
       "      <td>84.800000</td>\n",
       "      <td>27.00000</td>\n",
       "      <td>27.117647</td>\n",
       "    </tr>\n",
       "  </tbody>\n",
       "</table>\n",
       "</div>"
      ],
      "text/plain": [
       "               id          TV      radio  newspaper     sales  total_invested\n",
       "count   39.000000   39.000000  39.000000  39.000000  39.00000       39.000000\n",
       "mean   180.025641  160.310256  18.107692  23.184615  13.55641       14.532174\n",
       "std     11.446643   84.480913  14.484972  18.674533   4.94463        4.770307\n",
       "min    161.000000   17.200000   2.100000   3.600000   5.90000        7.328947\n",
       "25%    170.500000   89.950000   5.550000   8.200000  10.40000       10.944141\n",
       "50%    180.000000  168.400000  12.100000  19.400000  12.20000       15.054688\n",
       "75%    189.500000  220.450000  29.450000  29.850000  16.50000       17.340128\n",
       "max    200.000000  287.600000  48.900000  84.800000  27.00000       27.117647"
      ]
     },
     "execution_count": 14,
     "metadata": {},
     "output_type": "execute_result"
    }
   ],
   "source": [
    "data.loc[data['id'] > 160].describe()"
   ]
  },
  {
   "cell_type": "code",
   "execution_count": 15,
   "metadata": {},
   "outputs": [],
   "source": [
    "gaussian_nb = GaussianNB()\n",
    "gaussian_nb.fit(X_train, y_train)\n",
    "y_pred_test = gaussian_nb.predict(X_test)"
   ]
  },
  {
   "cell_type": "code",
   "execution_count": 16,
   "metadata": {},
   "outputs": [
    {
     "name": "stdout",
     "output_type": "stream",
     "text": [
      "Un 97.44% del conjunto de prueba fue clasificado correctamente.\n"
     ]
    }
   ],
   "source": [
    "test_classification_accuracy = accuracy_score(y_test, y_pred_test) * 100\n",
    "print(f'Un {test_classification_accuracy:.2f}% del conjunto de prueba fue clasificado correctamente.')"
   ]
  },
  {
   "cell_type": "code",
   "execution_count": 17,
   "metadata": {},
   "outputs": [
    {
     "name": "stdout",
     "output_type": "stream",
     "text": [
      "0.0% de falsos positivos.\n",
      "2.56% de falsos negativos.\n"
     ]
    }
   ],
   "source": [
    "confusion_matrix = confusion_matrix(y_test, y_pred_test)\n",
    "\n",
    "false_positives = confusion_matrix[0, 1]\n",
    "false_negatives = confusion_matrix[1, 0]\n",
    "\n",
    "print(f'{false_positives / 39 * 100}% de falsos positivos.')\n",
    "print(f'{false_negatives / 39 * 100:.2f}% de falsos negativos.')"
   ]
  },
  {
   "cell_type": "markdown",
   "metadata": {},
   "source": [
    "## Criterios de evaluación\n",
    "\n",
    "En orden de importancia, se evaluará la entrega acorde a los siguientes puntos:\n",
    "\n",
    "1. **<ins>Implementación de los puntos obligatorios en los cuatro pasos</ins>**\n",
    "2. **<ins>Correctitud de los datos obtenidos</ins>**\n",
    "3. **<ins>Implementación de los puntos opcionales</ins>**\n",
    "4. **<ins>Organización y limpieza del código</ins>**"
   ]
  },
  {
   "cell_type": "markdown",
   "metadata": {},
   "source": [
    "## Fecha límite de entrega\n",
    "\n",
    "La tarea deberá ser entregada, a más tardar, el **miércoles 15 de julio** a las **23:59 WEST**"
   ]
  },
  {
   "cell_type": "markdown",
   "metadata": {},
   "source": [
    "## Forma de entrega\n",
    "\n",
    "Se habilitará una tarea en nuestro Google Classroom a tal efecto para poder subir los ficheros finales. El formato de entrega puede ser en Jupyter Notebook (preferible) o en ficheros `.py` directamente y `.png` para los plots."
   ]
  }
 ],
 "metadata": {
  "kernelspec": {
   "display_name": "Python 3",
   "language": "python",
   "name": "python3"
  },
  "language_info": {
   "codemirror_mode": {
    "name": "ipython",
    "version": 3
   },
   "file_extension": ".py",
   "mimetype": "text/x-python",
   "name": "python",
   "nbconvert_exporter": "python",
   "pygments_lexer": "ipython3",
   "version": "3.8.3"
  }
 },
 "nbformat": 4,
 "nbformat_minor": 4
}
